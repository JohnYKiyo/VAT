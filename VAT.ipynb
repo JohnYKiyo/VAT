{
 "cells": [
  {
   "cell_type": "markdown",
   "metadata": {},
   "source": [
    "# moon data example"
   ]
  },
  {
   "cell_type": "code",
   "execution_count": 1,
   "metadata": {},
   "outputs": [
    {
     "name": "stderr",
     "output_type": "stream",
     "text": [
      "WARNING:root:Setting up a new session...\n"
     ]
    }
   ],
   "source": [
    "import numpy as np\n",
    "import pandas as pd \n",
    "\n",
    "import torch\n",
    "import torch.utils.data\n",
    "\n",
    "import matplotlib.pyplot as plt\n",
    "import seaborn as sns\n",
    "import visdom #for online plot. if not use, comment out.\n",
    "viz = visdom.Visdom(env='VAT_test')\n",
    "\n",
    "import sklearn.datasets\n",
    "from sklearn.metrics import accuracy_score"
   ]
  },
  {
   "cell_type": "code",
   "execution_count": 2,
   "metadata": {},
   "outputs": [],
   "source": [
    "X_all, y_all = sklearn.datasets.make_moons(n_samples=1000,shuffle=False,noise=0.1,random_state=41)\n",
    "X0_all = X_all[y_all==0]\n",
    "X1_all = X_all[y_all==1]\n",
    "i_labeled = 400\n",
    "half_n_labeled = 4\n",
    "\n",
    "X0u = X0_all.copy()\n",
    "X1u = X1_all.copy()\n",
    "\n",
    "Xl, yl = sklearn.datasets.make_moons(n_samples=3*half_n_labeled,shuffle=False,noise=0.1,random_state=9)\n",
    "X0l = Xl[yl==0][:half_n_labeled]\n",
    "X1l = Xl[yl==1][:half_n_labeled]\n",
    "Xl_new = np.r_[X0l,X1l]\n",
    "yl_new = np.array([0,0,0,0,1,1,1,1])"
   ]
  },
  {
   "cell_type": "code",
   "execution_count": 3,
   "metadata": {},
   "outputs": [
    {
     "data": {
      "text/plain": [
       "<Figure size 216x216 with 0 Axes>"
      ]
     },
     "metadata": {},
     "output_type": "display_data"
    }
   ],
   "source": [
    "fig = plt.figure(figsize=[3,3])\n",
    "ax = fig.add_subplot(111)\n",
    "ax.scatter(X0u[:,0],X0u[:,1],c='gray',label='unlabel')\n",
    "ax.scatter(X1u[:,0],X1u[:,1],c='gray',label='unlabel')\n",
    "ax.scatter(X0l[:,0],X0l[:,1],c='C0',label='0')\n",
    "ax.scatter(X1l[:,0],X1l[:,1],c='C1',label='1')\n",
    "ax.legend(loc='upper right', bbox_to_anchor=(1,1), fontsize=8)\n",
    "viz.matplot(fig)\n",
    "fig.clf()"
   ]
  },
  {
   "cell_type": "markdown",
   "metadata": {},
   "source": [
    "# VAT"
   ]
  },
  {
   "cell_type": "code",
   "execution_count": 4,
   "metadata": {},
   "outputs": [],
   "source": [
    "import torch\n",
    "import torch.nn as nn\n",
    "import torch.nn.functional as F\n",
    "import torch.optim as optim\n",
    "\n",
    "import vat"
   ]
  },
  {
   "cell_type": "markdown",
   "metadata": {},
   "source": [
    "## Network model"
   ]
  },
  {
   "cell_type": "code",
   "execution_count": 5,
   "metadata": {},
   "outputs": [],
   "source": [
    "class Net(nn.Module):\n",
    "    def __init__(self):\n",
    "        super(Net, self).__init__()\n",
    "        self.linear1 = nn.Linear(2,100)\n",
    "        self.linear2 = nn.Linear(100,100)\n",
    "        self.linear3 = nn.Linear(100,100)\n",
    "        self.linear4 = nn.Linear(100,2)\n",
    "        \n",
    "    def forward(self,x):\n",
    "        x = F.relu(self.linear1(x))\n",
    "        x = F.relu(self.linear2(x))\n",
    "        x = F.relu(self.linear3(x))\n",
    "        x = self.linear4(x)\n",
    "        return x"
   ]
  },
  {
   "cell_type": "markdown",
   "metadata": {},
   "source": [
    "## Train model"
   ]
  },
  {
   "cell_type": "code",
   "execution_count": 6,
   "metadata": {},
   "outputs": [],
   "source": [
    "def train(u):\n",
    "    vat_loss=vat.VATLoss(ip=2,xi=0.5,eps=0.5)\n",
    "    cross_entropy = nn.CrossEntropyLoss()\n",
    "    lds = vat_loss(model,u.float())\n",
    "    output = model(torch.tensor(Xl_new).float())\n",
    "    classification_loss = cross_entropy(output, torch.tensor(yl_new))\n",
    "    loss = classification_loss + 4.*lds\n",
    "    optimizer.zero_grad()\n",
    "    loss.backward()\n",
    "    optimizer.step()\n",
    "    return classification_loss, lds\n",
    "\n",
    "def valid(win=None):\n",
    "    model.eval()\n",
    "    z_pred = torch.nn.functional.softmax(model(torch.from_numpy(X_all).float()),dim=1).data.numpy()[:,1]\n",
    "    val = np.c_[X_all,z_pred.T]\n",
    "    \n",
    "    fig = plt.figure(figsize=[3,3])\n",
    "    ax = fig.add_subplot(111)\n",
    "    h = ax.scatter(X_all[:,0],X_all[:,1], c=z_pred, vmin=0, vmax=1,cmap='seismic')\n",
    "    ax.scatter(X0l[:,0],X0l[:,1],c='C0',marker='s',s=100)\n",
    "    ax.scatter(X1l[:,0],X1l[:,1],c='C1',marker='v',s=100)\n",
    "    fig.colorbar(h)\n",
    "    \n",
    "    if win is not None:\n",
    "        win = viz.matplot(fig,win=win)\n",
    "    else:\n",
    "        win = viz.matplot(fig)\n",
    "    fig.clf()\n",
    "    return win,val"
   ]
  },
  {
   "cell_type": "markdown",
   "metadata": {},
   "source": [
    "## train w/ VAT"
   ]
  },
  {
   "cell_type": "code",
   "execution_count": 7,
   "metadata": {},
   "outputs": [
    {
     "data": {
      "text/plain": [
       "<Figure size 216x216 with 0 Axes>"
      ]
     },
     "metadata": {},
     "output_type": "display_data"
    },
    {
     "data": {
      "text/plain": [
       "<Figure size 216x216 with 0 Axes>"
      ]
     },
     "metadata": {},
     "output_type": "display_data"
    },
    {
     "data": {
      "text/plain": [
       "<Figure size 216x216 with 0 Axes>"
      ]
     },
     "metadata": {},
     "output_type": "display_data"
    },
    {
     "data": {
      "text/plain": [
       "<Figure size 216x216 with 0 Axes>"
      ]
     },
     "metadata": {},
     "output_type": "display_data"
    },
    {
     "data": {
      "text/plain": [
       "<Figure size 216x216 with 0 Axes>"
      ]
     },
     "metadata": {},
     "output_type": "display_data"
    },
    {
     "data": {
      "text/plain": [
       "<Figure size 216x216 with 0 Axes>"
      ]
     },
     "metadata": {},
     "output_type": "display_data"
    },
    {
     "data": {
      "text/plain": [
       "<Figure size 216x216 with 0 Axes>"
      ]
     },
     "metadata": {},
     "output_type": "display_data"
    },
    {
     "data": {
      "text/plain": [
       "<Figure size 216x216 with 0 Axes>"
      ]
     },
     "metadata": {},
     "output_type": "display_data"
    },
    {
     "data": {
      "text/plain": [
       "<Figure size 216x216 with 0 Axes>"
      ]
     },
     "metadata": {},
     "output_type": "display_data"
    },
    {
     "data": {
      "text/plain": [
       "<Figure size 216x216 with 0 Axes>"
      ]
     },
     "metadata": {},
     "output_type": "display_data"
    },
    {
     "data": {
      "text/plain": [
       "<Figure size 216x216 with 0 Axes>"
      ]
     },
     "metadata": {},
     "output_type": "display_data"
    },
    {
     "data": {
      "text/plain": [
       "<Figure size 216x216 with 0 Axes>"
      ]
     },
     "metadata": {},
     "output_type": "display_data"
    },
    {
     "data": {
      "text/plain": [
       "<Figure size 216x216 with 0 Axes>"
      ]
     },
     "metadata": {},
     "output_type": "display_data"
    },
    {
     "data": {
      "text/plain": [
       "<Figure size 216x216 with 0 Axes>"
      ]
     },
     "metadata": {},
     "output_type": "display_data"
    },
    {
     "data": {
      "text/plain": [
       "<Figure size 216x216 with 0 Axes>"
      ]
     },
     "metadata": {},
     "output_type": "display_data"
    },
    {
     "data": {
      "text/plain": [
       "<Figure size 216x216 with 0 Axes>"
      ]
     },
     "metadata": {},
     "output_type": "display_data"
    }
   ],
   "source": [
    "#train \n",
    "i_total_step = 0\n",
    "model = Net()\n",
    "optimizer = optim.Adam(model.parameters(), lr=0.001, eps=0.001)\n",
    "dataset = torch.utils.data.TensorDataset(torch.FloatTensor(X_all),torch.LongTensor(y_all))\n",
    "win = None\n",
    "picdata = []\n",
    "for epoch in range(150):\n",
    "    dataloader = torch.utils.data.DataLoader(dataset,batch_size=100,shuffle=True)\n",
    "    for u , _ in dataloader:\n",
    "        i_total_step +=1\n",
    "        classification_loss, lds = train(u)\n",
    "\n",
    "        ce_losses =classification_loss.item()\n",
    "        vat_losses = lds.item()\n",
    "        if i_total_step%100 == 0 or i_total_step==1:\n",
    "            win, dat = valid(win)\n",
    "            picdata.append(dat)\n",
    "            if i_total_step==1:\n",
    "                win2=viz.line(X=[i_total_step],Y=[[ce_losses,vat_losses,ce_losses+vat_losses]],opts=dict(legend=['ce_loss','vat_loss','tot']))\n",
    "            else:\n",
    "                viz.line(X=[i_total_step],Y=[[ce_losses,vat_losses,ce_losses+vat_losses]],win=win2,update='append',opts=dict(legend=['ce_loss','vat_loss','tot']))\n",
    "#             print(\"CE:{0}\".format(ce_losses))\n",
    "#             print(\"Vat:{0}\".format(vat_losses))\n",
    "#             print(\"-----------------------------\")"
   ]
  },
  {
   "cell_type": "markdown",
   "metadata": {},
   "source": [
    "## train w/o VAT"
   ]
  },
  {
   "cell_type": "code",
   "execution_count": 8,
   "metadata": {},
   "outputs": [
    {
     "data": {
      "text/plain": [
       "<Figure size 216x216 with 0 Axes>"
      ]
     },
     "metadata": {},
     "output_type": "display_data"
    },
    {
     "data": {
      "text/plain": [
       "<Figure size 216x216 with 0 Axes>"
      ]
     },
     "metadata": {},
     "output_type": "display_data"
    },
    {
     "data": {
      "text/plain": [
       "<Figure size 216x216 with 0 Axes>"
      ]
     },
     "metadata": {},
     "output_type": "display_data"
    },
    {
     "data": {
      "text/plain": [
       "<Figure size 216x216 with 0 Axes>"
      ]
     },
     "metadata": {},
     "output_type": "display_data"
    },
    {
     "data": {
      "text/plain": [
       "<Figure size 216x216 with 0 Axes>"
      ]
     },
     "metadata": {},
     "output_type": "display_data"
    },
    {
     "data": {
      "text/plain": [
       "<Figure size 216x216 with 0 Axes>"
      ]
     },
     "metadata": {},
     "output_type": "display_data"
    },
    {
     "data": {
      "text/plain": [
       "<Figure size 216x216 with 0 Axes>"
      ]
     },
     "metadata": {},
     "output_type": "display_data"
    },
    {
     "data": {
      "text/plain": [
       "<Figure size 216x216 with 0 Axes>"
      ]
     },
     "metadata": {},
     "output_type": "display_data"
    },
    {
     "data": {
      "text/plain": [
       "<Figure size 216x216 with 0 Axes>"
      ]
     },
     "metadata": {},
     "output_type": "display_data"
    },
    {
     "data": {
      "text/plain": [
       "<Figure size 216x216 with 0 Axes>"
      ]
     },
     "metadata": {},
     "output_type": "display_data"
    },
    {
     "data": {
      "text/plain": [
       "<Figure size 216x216 with 0 Axes>"
      ]
     },
     "metadata": {},
     "output_type": "display_data"
    },
    {
     "data": {
      "text/plain": [
       "<Figure size 216x216 with 0 Axes>"
      ]
     },
     "metadata": {},
     "output_type": "display_data"
    },
    {
     "data": {
      "text/plain": [
       "<Figure size 216x216 with 0 Axes>"
      ]
     },
     "metadata": {},
     "output_type": "display_data"
    },
    {
     "data": {
      "text/plain": [
       "<Figure size 216x216 with 0 Axes>"
      ]
     },
     "metadata": {},
     "output_type": "display_data"
    }
   ],
   "source": [
    "#train \n",
    "i_total_step = 0\n",
    "model = Net()\n",
    "optimizer = optim.Adam(model.parameters(), lr=0.001, eps=0.001)\n",
    "dataset = torch.utils.data.TensorDataset(torch.FloatTensor(X_all),torch.LongTensor(y_all))\n",
    "win = None\n",
    "picdata_nom = []\n",
    "for epoch in range(150):\n",
    "    dataloader = torch.utils.data.DataLoader(dataset,batch_size=120,shuffle=True)\n",
    "    for u , _ in dataloader:\n",
    "        i_total_step +=1\n",
    "        \n",
    "        cross_entropy = nn.CrossEntropyLoss()\n",
    "        \n",
    "        output = model(torch.tensor(Xl_new).float())\n",
    "        classification_loss = cross_entropy(output, torch.tensor(yl_new))\n",
    "        \n",
    "        loss = classification_loss\n",
    "        optimizer.zero_grad()\n",
    "        loss.backward()\n",
    "        optimizer.step()\n",
    "        \n",
    "        accuracy = accuracy_score(yl_new, np.argmax(output.data.numpy(),axis=1))\n",
    "        ce_losses =classification_loss.item()\n",
    "\n",
    "        if i_total_step%100 == 0 or i_total_step==1:\n",
    "            win, dat = valid(win)\n",
    "            picdata_nom.append(dat)\n",
    "            if i_total_step==1:\n",
    "                win2=viz.line(X=[i_total_step],Y=[[ce_losses]],opts=dict(legend=['ce_loss']))\n",
    "            else:\n",
    "                viz.line(X=[i_total_step],Y=[[ce_losses]],win=win2,update='append',opts=dict(legend=['ce_loss']))\n",
    "#             print(\"CE:{0}\".format(ce_losses))\n",
    "#             print(\"Vat:{0}\".format(vat_losses))\n",
    "#             print(\"-----------------------------\")"
   ]
  },
  {
   "cell_type": "code",
   "execution_count": 9,
   "metadata": {},
   "outputs": [
    {
     "data": {
      "text/plain": [
       "<matplotlib.colorbar.Colorbar at 0x7f03e02f65f8>"
      ]
     },
     "execution_count": 9,
     "metadata": {},
     "output_type": "execute_result"
    },
    {
     "data": {
      "image/png": "[encoded data removed]",
      "text/plain": [
       "<Figure size 432x288 with 2 Axes>"
      ]
     },
     "metadata": {
      "needs_background": "light"
     },
     "output_type": "display_data"
    }
   ],
   "source": [
    "model.eval()\n",
    "fig = plt.figure()\n",
    "ax = fig.add_subplot(111)\n",
    "z_pred = torch.nn.functional.softmax(model(torch.from_numpy(X_all).float()),dim=1).data.numpy()[:,1]\n",
    "ax.scatter(X0l[:,0],X0l[:,1],c='C0',marker='s',s=100)\n",
    "ax.scatter(X1l[:,0],X1l[:,1],c='C1',marker='v',s=100)\n",
    "h = ax.scatter(X_all[:,0],X_all[:,1],c=z_pred,zorder=-1,cmap='seismic')\n",
    "fig.colorbar(h)"
   ]
  },
  {
   "cell_type": "markdown",
   "metadata": {},
   "source": [
    "# Make gif animation"
   ]
  },
  {
   "cell_type": "code",
   "execution_count": 10,
   "metadata": {},
   "outputs": [],
   "source": [
    "import matplotlib.animation as animation"
   ]
  },
  {
   "cell_type": "code",
   "execution_count": 11,
   "metadata": {},
   "outputs": [],
   "source": [
    "def updater(i,data,ax,fig):\n",
    "    ax.cla()\n",
    "    \n",
    "    h = ax.scatter(x=data[i][:,0],y=data[i][:,1],c=data[i][:,2],vmin=0, vmax=1,cmap='seismic')\n",
    "    c = ax.scatter(X0l[:,0],X0l[:,1],c='C0',marker='s',s=100)\n",
    "    c = ax.scatter(X1l[:,0],X1l[:,1],c='C1',marker='v',s=100)"
   ]
  },
  {
   "cell_type": "code",
   "execution_count": 12,
   "metadata": {},
   "outputs": [
    {
     "data": {
      "text/plain": [
       "<Figure size 216x216 with 0 Axes>"
      ]
     },
     "metadata": {},
     "output_type": "display_data"
    }
   ],
   "source": [
    "fig = plt.figure(figsize=[3,3])\n",
    "ax = fig.add_subplot(111)\n",
    "fig.colorbar(h)\n",
    "ani = animation.FuncAnimation(fig,updater, fargs=(picdata,ax,fig),interval=1000,frames=10)\n",
    "ani.save('VAT_train.gif',writer='imagemagick')\n",
    "fig.clf()"
   ]
  },
  {
   "cell_type": "code",
   "execution_count": 13,
   "metadata": {},
   "outputs": [
    {
     "data": {
      "text/plain": [
       "<Figure size 216x216 with 0 Axes>"
      ]
     },
     "metadata": {},
     "output_type": "display_data"
    }
   ],
   "source": [
    "fig = plt.figure(figsize=[3,3])\n",
    "ax = fig.add_subplot(111)\n",
    "fig.colorbar(h)\n",
    "ani = animation.FuncAnimation(fig,updater, fargs=(picdata_nom,ax,fig),interval=1000,frames=10)\n",
    "ani.save('Normal.gif',writer='imagemagick')\n",
    "fig.clf()"
   ]
  }
 ],
 "metadata": {
  "kernelspec": {
   "display_name": "Python3_Audio",
   "language": "python",
   "name": "python3_audio"
  },
  "language_info": {
   "codemirror_mode": {
    "name": "ipython",
    "version": 3
   },
   "file_extension": ".py",
   "mimetype": "text/x-python",
   "name": "python",
   "nbconvert_exporter": "python",
   "pygments_lexer": "ipython3",
   "version": "3.6.2"
  }
 },
 "nbformat": 4,
 "nbformat_minor": 2
}
